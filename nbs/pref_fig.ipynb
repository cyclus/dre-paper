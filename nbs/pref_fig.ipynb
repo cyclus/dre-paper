{
 "metadata": {
  "name": ""
 },
 "nbformat": 3,
 "nbformat_minor": 0,
 "worksheets": [
  {
   "cells": [
    {
     "cell_type": "code",
     "collapsed": false,
     "input": [
      "import numpy as np\n",
      "import matplotlib.pyplot as plt\n",
      "%matplotlib inline  \n",
      "\n",
      "import matplotlib.style as style\n",
      "style.use('bmh')"
     ],
     "language": "python",
     "metadata": {},
     "outputs": [],
     "prompt_number": 22
    },
    {
     "cell_type": "code",
     "collapsed": false,
     "input": [
      "p = np.array([9, 4]) # p[0] > 2p[1]                                                                                                                                                                             \n",
      "f = np.array([1, 1. / p[1], 1. / p[0]])\n",
      "n = 3\n",
      "p3 = np.array([2] * n)\n",
      "x = np.append(p.reshape(2, 1) * f.reshape(1, n), p3.reshape(1, n), axis=0)"
     ],
     "language": "python",
     "metadata": {},
     "outputs": [],
     "prompt_number": 23
    },
    {
     "cell_type": "code",
     "collapsed": false,
     "input": [
      "w = .3\n",
      "idx = np.arange(len(x[0]))\n",
      "opacity = 0.4\n",
      "\n",
      "colors = ['r', 'g', 'b']\n",
      "labels = ['$p_{MOX, a}$', '$p_{UOX, a}$', '$p_{UOX, b}$']\n",
      "\n",
      "for i in range(3):\n",
      "    plt.bar(idx + i * w, x[i], w, color=colors[i], label=labels[i], alpha=opacity)\n",
      "plt.ylabel('Preference (Arbitrary Units)')\n",
      "plt.xticks(idx + 1.5 * w, ('$t < t_0$', '$t_0 \\leq t < t_1$', '$t_1 \\leq t < t_2$', '$t_2 \\leq t < t_3$', '$t \\geq t_3$'))\n",
      "plt.legend()\n",
      "plt.savefig('../figs/tariff_prefs.pdf')\n",
      "plt.savefig('../figs/tariff_prefs.png')"
     ],
     "language": "python",
     "metadata": {},
     "outputs": [
      {
       "metadata": {},
       "output_type": "display_data",
       "png": "[encoded data removed]",
       "text": [
        "<matplotlib.figure.Figure at 0x7fc516523f90>"
       ]
      }
     ],
     "prompt_number": 24
    },
    {
     "cell_type": "code",
     "collapsed": false,
     "input": [],
     "language": "python",
     "metadata": {},
     "outputs": [],
     "prompt_number": 12
    },
    {
     "cell_type": "code",
     "collapsed": false,
     "input": [],
     "language": "python",
     "metadata": {},
     "outputs": []
    }
   ],
   "metadata": {}
  }
 ]
}