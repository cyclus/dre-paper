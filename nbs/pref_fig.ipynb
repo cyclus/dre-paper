{
 "cells": [
  {
   "cell_type": "code",
   "execution_count": 1,
   "metadata": {
    "collapsed": false
   },
   "outputs": [],
   "source": [
    "import numpy as np\n",
    "import matplotlib.pyplot as plt\n",
    "%matplotlib inline  \n",
    "\n",
    "import matplotlib.style as style\n",
    "style.use('bmh')"
   ]
  },
  {
   "cell_type": "code",
   "execution_count": 2,
   "metadata": {
    "collapsed": false
   },
   "outputs": [],
   "source": [
    "p = np.array([9, 4]) # p[0] > 2p[1]                                                                                                                                                                             \n",
    "f = np.array([1, 1. / p[1], 1. / p[0]])\n",
    "n = 3\n",
    "p3 = np.array([2] * n)\n",
    "x = np.append(p.reshape(2, 1) * f.reshape(1, n), p3.reshape(1, n), axis=0)"
   ]
  },
  {
   "cell_type": "code",
   "execution_count": 5,
   "metadata": {
    "collapsed": false
   },
   "outputs": [
    {
     "data": {
      "image/png": "[encoded data removed]",
      "text/plain": [
       "<matplotlib.figure.Figure at 0x7f73b3332090>"
      ]
     },
     "metadata": {},
     "output_type": "display_data"
    }
   ],
   "source": [
    "w = .3\n",
    "idx = np.arange(len(x[0]))\n",
    "opacity = 0.4\n",
    "\n",
    "colors = ['r', 'g', 'b']\n",
    "labels = ['$p_{MOX, a}$', '$p_{UOX, a}$', '$p_{UOX, b}$']\n",
    "\n",
    "for i in range(3):\n",
    "    plt.bar(idx + i * w, x[i], w, color=colors[i], label=labels[i], alpha=opacity)\n",
    "plt.ylabel('Preference (Arbitrary Units)')\n",
    "plt.xticks(idx + 1.5 * w, ('$t < t_0$', '$t_0 \\leq t < t_1$', '$t_1 \\leq t$', '$t_2 \\leq t < t_3$', '$t \\geq t_3$'))\n",
    "plt.legend()\n",
    "plt.savefig('../figs/tariff_prefs.pdf')\n",
    "plt.savefig('../figs/tariff_prefs.png')"
   ]
  },
  {
   "cell_type": "code",
   "execution_count": 12,
   "metadata": {
    "collapsed": false
   },
   "outputs": [],
   "source": []
  },
  {
   "cell_type": "code",
   "execution_count": null,
   "metadata": {
    "collapsed": false
   },
   "outputs": [],
   "source": []
  }
 ],
 "metadata": {
  "kernelspec": {
   "display_name": "Python 2",
   "language": "python",
   "name": "python2"
  },
  "language_info": {
   "codemirror_mode": {
    "name": "ipython",
    "version": 2
   },
   "file_extension": ".py",
   "mimetype": "text/x-python",
   "name": "python",
   "nbconvert_exporter": "python",
   "pygments_lexer": "ipython2",
   "version": "2.7.6"
  }
 },
 "nbformat": 4,
 "nbformat_minor": 0
}
